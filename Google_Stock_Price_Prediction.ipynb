{
 "cells": [
  {
   "cell_type": "code",
   "execution_count": 1,
   "metadata": {
    "id": "U-UM72CQxsMT"
   },
   "outputs": [],
   "source": [
    "import os\n",
    "import numpy as np\n",
    "import pandas as pd\n",
    "import matplotlib.pyplot as plt\n",
    "%matplotlib inline"
   ]
  },
  {
   "cell_type": "code",
   "execution_count": 2,
   "metadata": {
    "colab": {
     "base_uri": "https://localhost:8080/",
     "height": 206
    },
    "id": "LroP5wfPyG5G",
    "outputId": "9d52de1e-e04e-472a-e26c-141abe3dcb4d"
   },
   "outputs": [
    {
     "data": {
      "text/html": [
       "\n",
       "  <div id=\"df-5cb6b337-9fdb-4397-b0b3-60e871c6ffab\">\n",
       "    <div class=\"colab-df-container\">\n",
       "      <div>\n",
       "<style scoped>\n",
       "    .dataframe tbody tr th:only-of-type {\n",
       "        vertical-align: middle;\n",
       "    }\n",
       "\n",
       "    .dataframe tbody tr th {\n",
       "        vertical-align: top;\n",
       "    }\n",
       "\n",
       "    .dataframe thead th {\n",
       "        text-align: right;\n",
       "    }\n",
       "</style>\n",
       "<table border=\"1\" class=\"dataframe\">\n",
       "  <thead>\n",
       "    <tr style=\"text-align: right;\">\n",
       "      <th></th>\n",
       "      <th>Date</th>\n",
       "      <th>Open</th>\n",
       "      <th>High</th>\n",
       "      <th>Low</th>\n",
       "      <th>Close</th>\n",
       "      <th>Volume</th>\n",
       "    </tr>\n",
       "  </thead>\n",
       "  <tbody>\n",
       "    <tr>\n",
       "      <th>0</th>\n",
       "      <td>1/3/2012</td>\n",
       "      <td>325.25</td>\n",
       "      <td>332.83</td>\n",
       "      <td>324.97</td>\n",
       "      <td>663.59</td>\n",
       "      <td>7,380,500</td>\n",
       "    </tr>\n",
       "    <tr>\n",
       "      <th>1</th>\n",
       "      <td>1/4/2012</td>\n",
       "      <td>331.27</td>\n",
       "      <td>333.87</td>\n",
       "      <td>329.08</td>\n",
       "      <td>666.45</td>\n",
       "      <td>5,749,400</td>\n",
       "    </tr>\n",
       "    <tr>\n",
       "      <th>2</th>\n",
       "      <td>1/5/2012</td>\n",
       "      <td>329.83</td>\n",
       "      <td>330.75</td>\n",
       "      <td>326.89</td>\n",
       "      <td>657.21</td>\n",
       "      <td>6,590,300</td>\n",
       "    </tr>\n",
       "    <tr>\n",
       "      <th>3</th>\n",
       "      <td>1/6/2012</td>\n",
       "      <td>328.34</td>\n",
       "      <td>328.77</td>\n",
       "      <td>323.68</td>\n",
       "      <td>648.24</td>\n",
       "      <td>5,405,900</td>\n",
       "    </tr>\n",
       "    <tr>\n",
       "      <th>4</th>\n",
       "      <td>1/9/2012</td>\n",
       "      <td>322.04</td>\n",
       "      <td>322.29</td>\n",
       "      <td>309.46</td>\n",
       "      <td>620.76</td>\n",
       "      <td>11,688,800</td>\n",
       "    </tr>\n",
       "  </tbody>\n",
       "</table>\n",
       "</div>\n",
       "      <button class=\"colab-df-convert\" onclick=\"convertToInteractive('df-5cb6b337-9fdb-4397-b0b3-60e871c6ffab')\"\n",
       "              title=\"Convert this dataframe to an interactive table.\"\n",
       "              style=\"display:none;\">\n",
       "        \n",
       "  <svg xmlns=\"http://www.w3.org/2000/svg\" height=\"24px\"viewBox=\"0 0 24 24\"\n",
       "       width=\"24px\">\n",
       "    <path d=\"M0 0h24v24H0V0z\" fill=\"none\"/>\n",
       "    <path d=\"M18.56 5.44l.94 2.06.94-2.06 2.06-.94-2.06-.94-.94-2.06-.94 2.06-2.06.94zm-11 1L8.5 8.5l.94-2.06 2.06-.94-2.06-.94L8.5 2.5l-.94 2.06-2.06.94zm10 10l.94 2.06.94-2.06 2.06-.94-2.06-.94-.94-2.06-.94 2.06-2.06.94z\"/><path d=\"M17.41 7.96l-1.37-1.37c-.4-.4-.92-.59-1.43-.59-.52 0-1.04.2-1.43.59L10.3 9.45l-7.72 7.72c-.78.78-.78 2.05 0 2.83L4 21.41c.39.39.9.59 1.41.59.51 0 1.02-.2 1.41-.59l7.78-7.78 2.81-2.81c.8-.78.8-2.07 0-2.86zM5.41 20L4 18.59l7.72-7.72 1.47 1.35L5.41 20z\"/>\n",
       "  </svg>\n",
       "      </button>\n",
       "      \n",
       "  <style>\n",
       "    .colab-df-container {\n",
       "      display:flex;\n",
       "      flex-wrap:wrap;\n",
       "      gap: 12px;\n",
       "    }\n",
       "\n",
       "    .colab-df-convert {\n",
       "      background-color: #E8F0FE;\n",
       "      border: none;\n",
       "      border-radius: 50%;\n",
       "      cursor: pointer;\n",
       "      display: none;\n",
       "      fill: #1967D2;\n",
       "      height: 32px;\n",
       "      padding: 0 0 0 0;\n",
       "      width: 32px;\n",
       "    }\n",
       "\n",
       "    .colab-df-convert:hover {\n",
       "      background-color: #E2EBFA;\n",
       "      box-shadow: 0px 1px 2px rgba(60, 64, 67, 0.3), 0px 1px 3px 1px rgba(60, 64, 67, 0.15);\n",
       "      fill: #174EA6;\n",
       "    }\n",
       "\n",
       "    [theme=dark] .colab-df-convert {\n",
       "      background-color: #3B4455;\n",
       "      fill: #D2E3FC;\n",
       "    }\n",
       "\n",
       "    [theme=dark] .colab-df-convert:hover {\n",
       "      background-color: #434B5C;\n",
       "      box-shadow: 0px 1px 3px 1px rgba(0, 0, 0, 0.15);\n",
       "      filter: drop-shadow(0px 1px 2px rgba(0, 0, 0, 0.3));\n",
       "      fill: #FFFFFF;\n",
       "    }\n",
       "  </style>\n",
       "\n",
       "      <script>\n",
       "        const buttonEl =\n",
       "          document.querySelector('#df-5cb6b337-9fdb-4397-b0b3-60e871c6ffab button.colab-df-convert');\n",
       "        buttonEl.style.display =\n",
       "          google.colab.kernel.accessAllowed ? 'block' : 'none';\n",
       "\n",
       "        async function convertToInteractive(key) {\n",
       "          const element = document.querySelector('#df-5cb6b337-9fdb-4397-b0b3-60e871c6ffab');\n",
       "          const dataTable =\n",
       "            await google.colab.kernel.invokeFunction('convertToInteractive',\n",
       "                                                     [key], {});\n",
       "          if (!dataTable) return;\n",
       "\n",
       "          const docLinkHtml = 'Like what you see? Visit the ' +\n",
       "            '<a target=\"_blank\" href=https://colab.research.google.com/notebooks/data_table.ipynb>data table notebook</a>'\n",
       "            + ' to learn more about interactive tables.';\n",
       "          element.innerHTML = '';\n",
       "          dataTable['output_type'] = 'display_data';\n",
       "          await google.colab.output.renderOutput(dataTable, element);\n",
       "          const docLink = document.createElement('div');\n",
       "          docLink.innerHTML = docLinkHtml;\n",
       "          element.appendChild(docLink);\n",
       "        }\n",
       "      </script>\n",
       "    </div>\n",
       "  </div>\n",
       "  "
      ],
      "text/plain": [
       "       Date    Open    High     Low   Close      Volume\n",
       "0  1/3/2012  325.25  332.83  324.97  663.59   7,380,500\n",
       "1  1/4/2012  331.27  333.87  329.08  666.45   5,749,400\n",
       "2  1/5/2012  329.83  330.75  326.89  657.21   6,590,300\n",
       "3  1/6/2012  328.34  328.77  323.68  648.24   5,405,900\n",
       "4  1/9/2012  322.04  322.29  309.46  620.76  11,688,800"
      ]
     },
     "execution_count": 2,
     "metadata": {},
     "output_type": "execute_result"
    }
   ],
   "source": [
    "dataset_train = pd.read_csv(\"/content/Google_Stock_Price_Train.csv\")\n",
    "dataset_train.head()"
   ]
  },
  {
   "cell_type": "code",
   "execution_count": 3,
   "metadata": {
    "colab": {
     "base_uri": "https://localhost:8080/"
    },
    "id": "Sv_pHtJ00vCk",
    "outputId": "22f34c26-fddb-40ad-cef9-d31e9d942caf"
   },
   "outputs": [
    {
     "name": "stdout",
     "output_type": "stream",
     "text": [
      "[[325.25]\n",
      " [331.27]\n",
      " [329.83]\n",
      " ...\n",
      " [793.7 ]\n",
      " [783.33]\n",
      " [782.75]]\n",
      "(1258, 1)\n"
     ]
    }
   ],
   "source": [
    "training_set = dataset_train.iloc[:,1:2].values\n",
    "\n",
    "print(training_set)\n",
    "print(training_set.shape)"
   ]
  },
  {
   "cell_type": "code",
   "execution_count": 4,
   "metadata": {
    "colab": {
     "base_uri": "https://localhost:8080/"
    },
    "id": "-GjwqT2p07X2",
    "outputId": "50ffb890-1689-497b-f480-d0361aca6471"
   },
   "outputs": [
    {
     "data": {
      "text/plain": [
       "array([[0.08581368],\n",
       "       [0.09701243],\n",
       "       [0.09433366],\n",
       "       ...,\n",
       "       [0.95725128],\n",
       "       [0.93796041],\n",
       "       [0.93688146]])"
      ]
     },
     "execution_count": 4,
     "metadata": {},
     "output_type": "execute_result"
    }
   ],
   "source": [
    "from sklearn.preprocessing import MinMaxScaler\n",
    "\n",
    "scaler = MinMaxScaler(feature_range = (0,1))\n",
    "scaled_training_set = scaler.fit_transform(training_set)\n",
    "\n",
    "scaled_training_set"
   ]
  },
  {
   "cell_type": "code",
   "execution_count": 5,
   "metadata": {
    "id": "3-_v-aUX0_57"
   },
   "outputs": [],
   "source": [
    "X_train = []\n",
    "y_train = []\n",
    "for i in range(60,1258):\n",
    "    X_train.append(scaled_training_set[i-60:i, 0])\n",
    "    y_train.append(scaled_training_set[i, 0])  \n",
    "X_train = np.array(X_train)\n",
    "y_train = np.array(y_train)"
   ]
  },
  {
   "cell_type": "code",
   "execution_count": 6,
   "metadata": {
    "colab": {
     "base_uri": "https://localhost:8080/"
    },
    "id": "2sUIewXG1DDA",
    "outputId": "c2fa4055-a251-413f-9b92-aa8bc90635b5"
   },
   "outputs": [
    {
     "name": "stdout",
     "output_type": "stream",
     "text": [
      "(1198, 60)\n",
      "(1198,)\n"
     ]
    }
   ],
   "source": [
    "print(X_train.shape)\n",
    "print(y_train.shape)"
   ]
  },
  {
   "cell_type": "code",
   "execution_count": 7,
   "metadata": {
    "colab": {
     "base_uri": "https://localhost:8080/"
    },
    "id": "XjiJzTPA1GcW",
    "outputId": "b0c88412-ca37-4d13-f6dd-60bbac651904"
   },
   "outputs": [
    {
     "data": {
      "text/plain": [
       "(1198, 60, 1)"
      ]
     },
     "execution_count": 7,
     "metadata": {},
     "output_type": "execute_result"
    }
   ],
   "source": [
    "X_train = np.reshape(X_train,(X_train.shape[0], X_train.shape[1], 1))\n",
    "X_train.shape"
   ]
  },
  {
   "cell_type": "code",
   "execution_count": 8,
   "metadata": {
    "id": "rzPRHEWr1Oo6"
   },
   "outputs": [],
   "source": [
    "from keras.models import Sequential\n",
    "from keras.layers import LSTM\n",
    "from keras.layers import Dense\n",
    "from keras.layers import Dropout"
   ]
  },
  {
   "cell_type": "code",
   "execution_count": 9,
   "metadata": {
    "id": "5cu-FN0F1QoS"
   },
   "outputs": [],
   "source": [
    "regressor = Sequential()\n",
    "\n",
    "regressor.add(LSTM (units = 50, return_sequences= True, input_shape = (X_train.shape[1], 1))) \n",
    "regressor.add(Dropout(0.2) )\n",
    "\n",
    "regressor.add(LSTM(units = 50, return_sequences=True)) \n",
    "regressor.add(Dropout(0.2))\n",
    "\n",
    "regressor.add(LSTM(units = 50, return_sequences=True)) \n",
    "regressor.add(Dropout(0.2))\n",
    "\n",
    "regressor.add(LSTM(units = 50))\n",
    "regressor.add(Dropout(0.2))\n",
    "\n",
    "regressor.add(Dense(units=1))"
   ]
  },
  {
   "cell_type": "code",
   "execution_count": 10,
   "metadata": {
    "colab": {
     "base_uri": "https://localhost:8080/"
    },
    "id": "wIdVLYFN3hQq",
    "outputId": "4fb7b126-3525-4078-c3e5-850aad801aa8"
   },
   "outputs": [
    {
     "name": "stdout",
     "output_type": "stream",
     "text": [
      "Epoch 1/100\n",
      "38/38 [==============================] - 10s 16ms/step - loss: 0.0328\n",
      "Epoch 2/100\n",
      "38/38 [==============================] - 1s 14ms/step - loss: 0.0067\n",
      "Epoch 3/100\n",
      "38/38 [==============================] - 1s 13ms/step - loss: 0.0055\n",
      "Epoch 4/100\n",
      "38/38 [==============================] - 0s 13ms/step - loss: 0.0055\n",
      "Epoch 5/100\n",
      "38/38 [==============================] - 1s 13ms/step - loss: 0.0055\n",
      "Epoch 6/100\n",
      "38/38 [==============================] - 1s 14ms/step - loss: 0.0046\n",
      "Epoch 7/100\n",
      "38/38 [==============================] - 1s 13ms/step - loss: 0.0045\n",
      "Epoch 8/100\n",
      "38/38 [==============================] - 1s 13ms/step - loss: 0.0045\n",
      "Epoch 9/100\n",
      "38/38 [==============================] - 1s 13ms/step - loss: 0.0059\n",
      "Epoch 10/100\n",
      "38/38 [==============================] - 1s 13ms/step - loss: 0.0043\n",
      "Epoch 11/100\n",
      "38/38 [==============================] - 1s 13ms/step - loss: 0.0041\n",
      "Epoch 12/100\n",
      "38/38 [==============================] - 1s 13ms/step - loss: 0.0040\n",
      "Epoch 13/100\n",
      "38/38 [==============================] - 1s 13ms/step - loss: 0.0038\n",
      "Epoch 14/100\n",
      "38/38 [==============================] - 1s 13ms/step - loss: 0.0043\n",
      "Epoch 15/100\n",
      "38/38 [==============================] - 1s 13ms/step - loss: 0.0036\n",
      "Epoch 16/100\n",
      "38/38 [==============================] - 1s 14ms/step - loss: 0.0039\n",
      "Epoch 17/100\n",
      "38/38 [==============================] - 1s 13ms/step - loss: 0.0037\n",
      "Epoch 18/100\n",
      "38/38 [==============================] - 0s 13ms/step - loss: 0.0038\n",
      "Epoch 19/100\n",
      "38/38 [==============================] - 1s 14ms/step - loss: 0.0034\n",
      "Epoch 20/100\n",
      "38/38 [==============================] - 1s 18ms/step - loss: 0.0038\n",
      "Epoch 21/100\n",
      "38/38 [==============================] - 1s 20ms/step - loss: 0.0031\n",
      "Epoch 22/100\n",
      "38/38 [==============================] - 1s 14ms/step - loss: 0.0033\n",
      "Epoch 23/100\n",
      "38/38 [==============================] - 0s 13ms/step - loss: 0.0033\n",
      "Epoch 24/100\n",
      "38/38 [==============================] - 1s 13ms/step - loss: 0.0035\n",
      "Epoch 25/100\n",
      "38/38 [==============================] - 1s 13ms/step - loss: 0.0033\n",
      "Epoch 26/100\n",
      "38/38 [==============================] - 1s 14ms/step - loss: 0.0030\n",
      "Epoch 27/100\n",
      "38/38 [==============================] - 1s 13ms/step - loss: 0.0029\n",
      "Epoch 28/100\n",
      "38/38 [==============================] - 1s 13ms/step - loss: 0.0028\n",
      "Epoch 29/100\n",
      "38/38 [==============================] - 1s 14ms/step - loss: 0.0029\n",
      "Epoch 30/100\n",
      "38/38 [==============================] - 1s 14ms/step - loss: 0.0030\n",
      "Epoch 31/100\n",
      "38/38 [==============================] - 1s 14ms/step - loss: 0.0029\n",
      "Epoch 32/100\n",
      "38/38 [==============================] - 1s 14ms/step - loss: 0.0027\n",
      "Epoch 33/100\n",
      "38/38 [==============================] - 1s 14ms/step - loss: 0.0032\n",
      "Epoch 34/100\n",
      "38/38 [==============================] - 1s 14ms/step - loss: 0.0028\n",
      "Epoch 35/100\n",
      "38/38 [==============================] - 1s 14ms/step - loss: 0.0027\n",
      "Epoch 36/100\n",
      "38/38 [==============================] - 0s 13ms/step - loss: 0.0026\n",
      "Epoch 37/100\n",
      "38/38 [==============================] - 1s 13ms/step - loss: 0.0028\n",
      "Epoch 38/100\n",
      "38/38 [==============================] - 1s 13ms/step - loss: 0.0025\n",
      "Epoch 39/100\n",
      "38/38 [==============================] - 1s 13ms/step - loss: 0.0025\n",
      "Epoch 40/100\n",
      "38/38 [==============================] - 1s 13ms/step - loss: 0.0024\n",
      "Epoch 41/100\n",
      "38/38 [==============================] - 1s 13ms/step - loss: 0.0028\n",
      "Epoch 42/100\n",
      "38/38 [==============================] - 1s 13ms/step - loss: 0.0026\n",
      "Epoch 43/100\n",
      "38/38 [==============================] - 1s 13ms/step - loss: 0.0023\n",
      "Epoch 44/100\n",
      "38/38 [==============================] - 1s 13ms/step - loss: 0.0024\n",
      "Epoch 45/100\n",
      "38/38 [==============================] - 1s 14ms/step - loss: 0.0023\n",
      "Epoch 46/100\n",
      "38/38 [==============================] - 1s 13ms/step - loss: 0.0026\n",
      "Epoch 47/100\n",
      "38/38 [==============================] - 1s 13ms/step - loss: 0.0023\n",
      "Epoch 48/100\n",
      "38/38 [==============================] - 1s 13ms/step - loss: 0.0025\n",
      "Epoch 49/100\n",
      "38/38 [==============================] - 1s 14ms/step - loss: 0.0026\n",
      "Epoch 50/100\n",
      "38/38 [==============================] - 0s 13ms/step - loss: 0.0022\n",
      "Epoch 51/100\n",
      "38/38 [==============================] - 1s 16ms/step - loss: 0.0021\n",
      "Epoch 52/100\n",
      "38/38 [==============================] - 1s 13ms/step - loss: 0.0023\n",
      "Epoch 53/100\n",
      "38/38 [==============================] - 1s 16ms/step - loss: 0.0021\n",
      "Epoch 54/100\n",
      "38/38 [==============================] - 1s 16ms/step - loss: 0.0021\n",
      "Epoch 55/100\n",
      "38/38 [==============================] - 1s 13ms/step - loss: 0.0020\n",
      "Epoch 56/100\n",
      "38/38 [==============================] - 1s 13ms/step - loss: 0.0020\n",
      "Epoch 57/100\n",
      "38/38 [==============================] - 1s 13ms/step - loss: 0.0021\n",
      "Epoch 58/100\n",
      "38/38 [==============================] - 1s 25ms/step - loss: 0.0022\n",
      "Epoch 59/100\n",
      "38/38 [==============================] - 1s 16ms/step - loss: 0.0020\n",
      "Epoch 60/100\n",
      "38/38 [==============================] - 1s 21ms/step - loss: 0.0019\n",
      "Epoch 61/100\n",
      "38/38 [==============================] - 1s 22ms/step - loss: 0.0022\n",
      "Epoch 62/100\n",
      "38/38 [==============================] - 1s 15ms/step - loss: 0.0021\n",
      "Epoch 63/100\n",
      "38/38 [==============================] - 1s 13ms/step - loss: 0.0019\n",
      "Epoch 64/100\n",
      "38/38 [==============================] - 1s 14ms/step - loss: 0.0019\n",
      "Epoch 65/100\n",
      "38/38 [==============================] - 1s 13ms/step - loss: 0.0019\n",
      "Epoch 66/100\n",
      "38/38 [==============================] - 1s 13ms/step - loss: 0.0019\n",
      "Epoch 67/100\n",
      "38/38 [==============================] - 1s 13ms/step - loss: 0.0020\n",
      "Epoch 68/100\n",
      "38/38 [==============================] - 1s 14ms/step - loss: 0.0019\n",
      "Epoch 69/100\n",
      "38/38 [==============================] - 1s 14ms/step - loss: 0.0019\n",
      "Epoch 70/100\n",
      "38/38 [==============================] - 1s 14ms/step - loss: 0.0016\n",
      "Epoch 71/100\n",
      "38/38 [==============================] - 1s 13ms/step - loss: 0.0017\n",
      "Epoch 72/100\n",
      "38/38 [==============================] - 1s 14ms/step - loss: 0.0017\n",
      "Epoch 73/100\n",
      "38/38 [==============================] - 1s 14ms/step - loss: 0.0016\n",
      "Epoch 74/100\n",
      "38/38 [==============================] - 1s 14ms/step - loss: 0.0017\n",
      "Epoch 75/100\n",
      "38/38 [==============================] - 1s 13ms/step - loss: 0.0017\n",
      "Epoch 76/100\n",
      "38/38 [==============================] - 1s 14ms/step - loss: 0.0017\n",
      "Epoch 77/100\n",
      "38/38 [==============================] - 1s 13ms/step - loss: 0.0016\n",
      "Epoch 78/100\n",
      "38/38 [==============================] - 1s 14ms/step - loss: 0.0017\n",
      "Epoch 79/100\n",
      "38/38 [==============================] - 1s 14ms/step - loss: 0.0017\n",
      "Epoch 80/100\n",
      "38/38 [==============================] - 1s 15ms/step - loss: 0.0017\n",
      "Epoch 81/100\n",
      "38/38 [==============================] - 1s 14ms/step - loss: 0.0018\n",
      "Epoch 82/100\n",
      "38/38 [==============================] - 1s 14ms/step - loss: 0.0016\n",
      "Epoch 83/100\n",
      "38/38 [==============================] - 1s 14ms/step - loss: 0.0015\n",
      "Epoch 84/100\n",
      "38/38 [==============================] - 1s 14ms/step - loss: 0.0019\n",
      "Epoch 85/100\n",
      "38/38 [==============================] - 1s 14ms/step - loss: 0.0015\n",
      "Epoch 86/100\n",
      "38/38 [==============================] - 1s 14ms/step - loss: 0.0016\n",
      "Epoch 87/100\n",
      "38/38 [==============================] - 1s 13ms/step - loss: 0.0014\n",
      "Epoch 88/100\n",
      "38/38 [==============================] - 1s 13ms/step - loss: 0.0013\n",
      "Epoch 89/100\n",
      "38/38 [==============================] - 1s 13ms/step - loss: 0.0014\n",
      "Epoch 90/100\n",
      "38/38 [==============================] - 1s 14ms/step - loss: 0.0014\n",
      "Epoch 91/100\n",
      "38/38 [==============================] - 0s 13ms/step - loss: 0.0014\n",
      "Epoch 92/100\n",
      "38/38 [==============================] - 1s 13ms/step - loss: 0.0015\n",
      "Epoch 93/100\n",
      "38/38 [==============================] - 1s 14ms/step - loss: 0.0016\n",
      "Epoch 94/100\n",
      "38/38 [==============================] - 1s 13ms/step - loss: 0.0014\n",
      "Epoch 95/100\n",
      "38/38 [==============================] - 0s 13ms/step - loss: 0.0015\n",
      "Epoch 96/100\n",
      "38/38 [==============================] - 1s 14ms/step - loss: 0.0017\n",
      "Epoch 97/100\n",
      "38/38 [==============================] - 1s 13ms/step - loss: 0.0016\n",
      "Epoch 98/100\n",
      "38/38 [==============================] - 1s 14ms/step - loss: 0.0013\n",
      "Epoch 99/100\n",
      "38/38 [==============================] - 1s 14ms/step - loss: 0.0014\n",
      "Epoch 100/100\n",
      "38/38 [==============================] - 1s 14ms/step - loss: 0.0014\n"
     ]
    },
    {
     "data": {
      "text/plain": [
       "<keras.callbacks.History at 0x7fce37d1b8d0>"
      ]
     },
     "execution_count": 10,
     "metadata": {},
     "output_type": "execute_result"
    }
   ],
   "source": [
    "regressor.compile(optimizer = 'adam', loss = 'mean_squared_error')\n",
    "regressor.fit(X_train, y_train, epochs=100, batch_size=32)"
   ]
  },
  {
   "cell_type": "code",
   "execution_count": 11,
   "metadata": {
    "id": "1-8X2z_t4Orx"
   },
   "outputs": [],
   "source": [
    "dataset_test = pd.read_csv(\"/content/Google_Stock_Price_Test.csv\")\n",
    "actual_stock_price = dataset_test.iloc[:,1:2].values"
   ]
  },
  {
   "cell_type": "code",
   "execution_count": 12,
   "metadata": {
    "id": "eOcGzUJn4rIw"
   },
   "outputs": [],
   "source": [
    "dataset_total = pd.concat((dataset_train['Open'], dataset_test['Open']), axis = 0)\n",
    "inputs = dataset_total[len(dataset_total)- len(dataset_test)-60:].values\n",
    "\n",
    "inputs = inputs.reshape(-1,1)\n",
    "inputs = scaler.transform(inputs)\n",
    "\n",
    "X_test = []\n",
    "for i in range(60,80):\n",
    "    X_test.append(inputs[i-60:i, 0])\n",
    "X_test = np.array(X_test) \n",
    "X_test = np.reshape(X_test,(X_test.shape[0], X_test.shape[1], 1))"
   ]
  },
  {
   "cell_type": "code",
   "execution_count": 13,
   "metadata": {
    "colab": {
     "base_uri": "https://localhost:8080/"
    },
    "id": "u1NLNqlg61Cz",
    "outputId": "403081bd-caa8-44da-cceb-c904df91b62a"
   },
   "outputs": [
    {
     "name": "stdout",
     "output_type": "stream",
     "text": [
      "1/1 [==============================] - 1s 1s/step\n"
     ]
    }
   ],
   "source": [
    "predicted_stock_price = regressor.predict(X_test)\n",
    "predicted_stock_price = scaler.inverse_transform(predicted_stock_price)"
   ]
  },
  {
   "cell_type": "code",
   "execution_count": 14,
   "metadata": {
    "colab": {
     "base_uri": "https://localhost:8080/",
     "height": 313
    },
    "id": "_gkbnNtv7NWR",
    "outputId": "605bdc46-1ff5-49dd-82f0-5c2942327623"
   },
   "outputs": [
    {
     "data": {
      "text/plain": [
       "<matplotlib.legend.Legend at 0x7fcdcccedc90>"
      ]
     },
     "execution_count": 14,
     "metadata": {},
     "output_type": "execute_result"
    },
    {
     "data": {
      "image/png": "[encoded data removed]",
      "text/plain": [
       "<Figure size 432x288 with 1 Axes>"
      ]
     },
     "metadata": {
      "needs_background": "light"
     },
     "output_type": "display_data"
    }
   ],
   "source": [
    "plt.plot(actual_stock_price, color = 'red', label ='Actual Google Stock Price')\n",
    "plt.plot(predicted_stock_price, color ='blue', label = 'Predicted Google Stock Price')\n",
    "plt.title('Google Stock Price Prediction')\n",
    "plt.xlabel('Time')\n",
    "plt.ylabel('Google Stock Price')\n",
    "plt.legend()"
   ]
  }
 ],
 "metadata": {
  "accelerator": "GPU",
  "colab": {
   "provenance": []
  },
  "kernelspec": {
   "display_name": "Python 3 (ipykernel)",
   "language": "python",
   "name": "python3"
  },
  "language_info": {
   "codemirror_mode": {
    "name": "ipython",
    "version": 3
   },
   "file_extension": ".py",
   "mimetype": "text/x-python",
   "name": "python",
   "nbconvert_exporter": "python",
   "pygments_lexer": "ipython3",
   "version": "3.8.13"
  }
 },
 "nbformat": 4,
 "nbformat_minor": 1
}
